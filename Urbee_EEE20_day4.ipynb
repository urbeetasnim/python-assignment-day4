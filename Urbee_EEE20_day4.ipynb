{
 "cells": [
  {
   "cell_type": "markdown",
   "id": "forced-twist",
   "metadata": {},
   "source": [
    "#  Problem 1\n",
    "1.Write a Python program to find those numbers which are divisible by 8 and 3 but multiple of 9, between 1000 and 1800 (both included)"
   ]
  },
  {
   "cell_type": "code",
   "execution_count": 1,
   "id": "demonstrated-swedish",
   "metadata": {},
   "outputs": [
    {
     "name": "stdout",
     "output_type": "stream",
     "text": [
      "['1008', '1080', '1152', '1224', '1296', '1368', '1440', '1512', '1584', '1656', '1728', '1800']\n"
     ]
    }
   ],
   "source": [
    "n = []\n",
    "for i in range (1000, 1801):\n",
    "    if (i%8 ==0) and (i%3 ==0) and (i%9 ==0):\n",
    "        n.append(str(i))\n",
    "print(n)"
   ]
  },
  {
   "cell_type": "markdown",
   "id": "descending-dealing",
   "metadata": {},
   "source": [
    "#  Problem 2\n",
    "2.touple = ('I','E','E','E','H','S','T','U','S','B')\n",
    "Using this touple, write a program whose output will be IEEE HSTU SB."
   ]
  },
  {
   "cell_type": "code",
   "execution_count": 10,
   "id": "sexual-sterling",
   "metadata": {},
   "outputs": [
    {
     "name": "stdout",
     "output_type": "stream",
     "text": [
      "IEEE HSTU SB\n"
     ]
    }
   ],
   "source": [
    "touple = ('I','E','E','E','H','S','T','U','S','B')\n",
    "a = \"\".join(touple[:4])\n",
    "b = \"\".join(touple[4:8])\n",
    "c = \"\".join(touple[8:10])\n",
    "\n",
    "print(a,b,c)"
   ]
  },
  {
   "cell_type": "markdown",
   "id": "greater-consortium",
   "metadata": {},
   "source": [
    "# Problem 3\n",
    "3.Write a Python program to check a triangle is equilateral, isosceles or scalene.\n",
    "Note :\n",
    "An equilateral triangle is a triangle in which all three sides are equal.\n",
    "A scalene triangle is a triangle that has three unequal sides.\n",
    "An isosceles triangle is a triangle with (at least) two equal sides."
   ]
  },
  {
   "cell_type": "code",
   "execution_count": 2,
   "id": "certain-christian",
   "metadata": {},
   "outputs": [
    {
     "name": "stdout",
     "output_type": "stream",
     "text": [
      "Enter the lengths of the triangle sides: \n",
      "a= 7\n",
      "b= 8\n",
      "c= 9\n",
      "The triangle is Scalene\n"
     ]
    }
   ],
   "source": [
    "print(\"Enter the lengths of the triangle sides: \")\n",
    "a = int(input(\"a= \"))\n",
    "b = int(input(\"b= \"))\n",
    "c = int(input(\"c= \"))\n",
    "\n",
    "if a==b==c:\n",
    "    print(\"The triangle is Equilateral\")\n",
    "elif a==b or b==c or c==a:\n",
    "    print(\"The triangle is Isoscceles\")\n",
    "else:\n",
    "    print(\"The triangle is Scalene\")"
   ]
  },
  {
   "cell_type": "code",
   "execution_count": 3,
   "id": "sufficient-medicaid",
   "metadata": {},
   "outputs": [
    {
     "name": "stdout",
     "output_type": "stream",
     "text": [
      "Enter the lengths of the triangle sides: \n",
      "a= 7\n",
      "b= 8\n",
      "c= 8\n",
      "The triangle is Isoscceles\n"
     ]
    }
   ],
   "source": [
    "print(\"Enter the lengths of the triangle sides: \")\n",
    "a = int(input(\"a= \"))\n",
    "b = int(input(\"b= \"))\n",
    "c = int(input(\"c= \"))\n",
    "\n",
    "if a==b==c:\n",
    "    print(\"The triangle is Equilateral\")\n",
    "elif a==b or b==c or c==a:\n",
    "    print(\"The triangle is Isoscceles\")\n",
    "else:\n",
    "    print(\"The triangle is Scalene\")"
   ]
  },
  {
   "cell_type": "code",
   "execution_count": 4,
   "id": "tight-magazine",
   "metadata": {},
   "outputs": [
    {
     "name": "stdout",
     "output_type": "stream",
     "text": [
      "Enter the lengths of the triangle sides: \n",
      "a= 5\n",
      "b= 5\n",
      "c= 5\n",
      "The triangle is Equilateral\n"
     ]
    }
   ],
   "source": [
    "print(\"Enter the lengths of the triangle sides: \")\n",
    "a = int(input(\"a= \"))\n",
    "b = int(input(\"b= \"))\n",
    "c = int(input(\"c= \"))\n",
    "\n",
    "if a==b==c:\n",
    "    print(\"The triangle is Equilateral\")\n",
    "elif a==b or b==c or c==a:\n",
    "    print(\"The triangle is Isoscceles\")\n",
    "else:\n",
    "    print(\"The triangle is Scalene\")"
   ]
  },
  {
   "cell_type": "markdown",
   "id": "flexible-emission",
   "metadata": {},
   "source": [
    "# Problem 4\n",
    "4.Write a Python program to create the multiplication table (from 1 to 10) of a number."
   ]
  },
  {
   "cell_type": "code",
   "execution_count": 5,
   "id": "controversial-topic",
   "metadata": {},
   "outputs": [
    {
     "name": "stdout",
     "output_type": "stream",
     "text": [
      "Enter a number: \n",
      "5\n",
      "5 x 1 = 5\n",
      "5 x 2 = 10\n",
      "5 x 3 = 15\n",
      "5 x 4 = 20\n",
      "5 x 5 = 25\n",
      "5 x 6 = 30\n",
      "5 x 7 = 35\n",
      "5 x 8 = 40\n",
      "5 x 9 = 45\n",
      "5 x 10 = 50\n"
     ]
    }
   ],
   "source": [
    "print(\"Enter a number: \")\n",
    "n = int(input())\n",
    "for i in range(1,11):\n",
    "    print(n, 'x',i, '=', n*i)"
   ]
  },
  {
   "cell_type": "markdown",
   "id": "characteristic-fight",
   "metadata": {},
   "source": [
    "# Problem 5\n",
    "5.Write a python program to check whether a given year is a leap year."
   ]
  },
  {
   "cell_type": "code",
   "execution_count": 6,
   "id": "vertical-champagne",
   "metadata": {},
   "outputs": [
    {
     "name": "stdout",
     "output_type": "stream",
     "text": [
      "Enter a year: 3036\n",
      "The year is a leap year\n"
     ]
    }
   ],
   "source": [
    "y = int(input(\"Enter a year: \"))\n",
    "\n",
    "if y%4 == 0:\n",
    "    if y%100 == 0:\n",
    "        if y%400 == 0:\n",
    "            print(\"The year is a leap year .\")\n",
    "        else :\n",
    "            print(\"The year is not a leap year .\")\n",
    "    else :\n",
    "        print(\"The year is a leap year\")\n",
    "else :\n",
    "    print(\"The year is not a leap year .\")"
   ]
  },
  {
   "cell_type": "markdown",
   "id": "historical-syntax",
   "metadata": {},
   "source": [
    "# Problem 6\n",
    "6.Write the programs to get the areas of a) triangle, b)Rectangle, c) circle."
   ]
  },
  {
   "cell_type": "code",
   "execution_count": 7,
   "id": "respected-laptop",
   "metadata": {},
   "outputs": [
    {
     "name": "stdout",
     "output_type": "stream",
     "text": [
      "Please enter the correct spelling in lowercase\n",
      "enter a shape name amongst triangle, rectangle , circle for which you want to calculate the area: rectangle\n",
      "Enter rectangle's length: 12\n",
      "Enter rectangle's weidth: 9\n",
      "Area of the rectangle:  108\n"
     ]
    }
   ],
   "source": [
    "print(\"Please enter the correct spelling in lowercase\")\n",
    "shape = input(\"enter a shape name amongst triangle, rectangle , circle for which you want to calculate the area: \")\n",
    "\n",
    "if shape == \"triangle\":\n",
    "    h = int(input(\"Enter triangle's height: \"))\n",
    "    b = int(input(\"Enter triangle's base: \"))\n",
    "    triangle_area = print(\"Area of the triangle: \", 1/2*int(h)*int(b))\n",
    "                          \n",
    "elif shape == \"rectangle\":\n",
    "    l = int(input(\"Enter rectangle's length: \"))\n",
    "    w = int(input(\"Enter rectangle's weidth: \"))\n",
    "    rectangle_area = print(\"Area of the rectangle: \", int(l)*int(w))\n",
    "                          \n",
    "elif shape == \"circle\":\n",
    "    r = int(input(\"Enter circle's radious: \"))\n",
    "    pi = 3.1416\n",
    "    circle_area = print(\"Area of the circle: \", int(pi)*int(r)*int(r))\n",
    "                        \n",
    "else:\n",
    "    print(\"Sorry! This shape is not available\")"
   ]
  },
  {
   "cell_type": "code",
   "execution_count": 8,
   "id": "greek-suffering",
   "metadata": {},
   "outputs": [
    {
     "name": "stdout",
     "output_type": "stream",
     "text": [
      "Please enter the correct spelling in lowercase\n",
      "enter a shape name amongst triangle, rectangle , circle for which you want to calculate the area: triangle\n",
      "Enter triangle's height: 7\n",
      "Enter triangle's base: 5\n",
      "Area of the triangle:  17.5\n"
     ]
    }
   ],
   "source": [
    "print(\"Please enter the correct spelling in lowercase\")\n",
    "shape = input(\"enter a shape name amongst triangle, rectangle , circle for which you want to calculate the area: \")\n",
    "\n",
    "if shape == \"triangle\":\n",
    "    h = int(input(\"Enter triangle's height: \"))\n",
    "    b = int(input(\"Enter triangle's base: \"))\n",
    "    triangle_area = print(\"Area of the triangle: \", 1/2*int(h)*int(b))\n",
    "                          \n",
    "elif shape == \"rectangle\":\n",
    "    l = int(input(\"Enter rectangle's length: \"))\n",
    "    w = int(input(\"Enter rectangle's weidth: \"))\n",
    "    rectangle_area = print(\"Area of the rectangle: \", int(l)*int(w))\n",
    "                          \n",
    "elif shape == \"circle\":\n",
    "    r = int(input(\"Enter circle's radious: \"))\n",
    "    pi = 3.1416\n",
    "    circle_area = print(\"Area of the circle: \", int(pi)*int(r)*int(r))\n",
    "                        \n",
    "else:\n",
    "    print(\"Sorry! This shape is not available\")"
   ]
  },
  {
   "cell_type": "code",
   "execution_count": 9,
   "id": "fiscal-advisory",
   "metadata": {},
   "outputs": [
    {
     "name": "stdout",
     "output_type": "stream",
     "text": [
      "Please enter the correct spelling in lowercase\n",
      "enter a shape name amongst triangle, rectangle , circle for which you want to calculate the area: circle\n",
      "Enter circle's radious: 7\n",
      "Area of the circle:  147\n"
     ]
    }
   ],
   "source": [
    "print(\"Please enter the correct spelling in lowercase\")\n",
    "shape = input(\"enter a shape name amongst triangle, rectangle , circle for which you want to calculate the area: \")\n",
    "\n",
    "if shape == \"triangle\":\n",
    "    h = int(input(\"Enter triangle's height: \"))\n",
    "    b = int(input(\"Enter triangle's base: \"))\n",
    "    triangle_area = print(\"Area of the triangle: \", 1/2*int(h)*int(b))\n",
    "                          \n",
    "elif shape == \"rectangle\":\n",
    "    l = int(input(\"Enter rectangle's length: \"))\n",
    "    w = int(input(\"Enter rectangle's weidth: \"))\n",
    "    rectangle_area = print(\"Area of the rectangle: \", int(l)*int(w))\n",
    "                          \n",
    "elif shape == \"circle\":\n",
    "    r = int(input(\"Enter circle's radious: \"))\n",
    "    pi = 3.1416\n",
    "    circle_area = print(\"Area of the circle: \", int(pi)*int(r)*int(r))\n",
    "                        \n",
    "else:\n",
    "    print(\"Sorry! This shape is not available\")"
   ]
  },
  {
   "cell_type": "code",
   "execution_count": null,
   "id": "beginning-detail",
   "metadata": {},
   "outputs": [],
   "source": []
  }
 ],
 "metadata": {
  "kernelspec": {
   "display_name": "Python 3",
   "language": "python",
   "name": "python3"
  },
  "language_info": {
   "codemirror_mode": {
    "name": "ipython",
    "version": 3
   },
   "file_extension": ".py",
   "mimetype": "text/x-python",
   "name": "python",
   "nbconvert_exporter": "python",
   "pygments_lexer": "ipython3",
   "version": "3.9.2"
  }
 },
 "nbformat": 4,
 "nbformat_minor": 5
}
